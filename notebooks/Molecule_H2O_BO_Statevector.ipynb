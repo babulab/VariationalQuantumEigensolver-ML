{
 "cells": [
  {
   "cell_type": "markdown",
   "metadata": {},
   "source": [
    "# VQE with Single-Model Bayesian Optimisation of Total Expectation Value\n",
    "### Estimation of ground state energy, Hamiltonian $H_{2}O$"
   ]
  },
  {
   "cell_type": "code",
   "execution_count": 1,
   "metadata": {},
   "outputs": [],
   "source": [
    "#Import libraries\n",
    "import torch\n",
    "from matplotlib import pyplot as plt\n",
    "from qiskit import QuantumCircuit\n",
    "import numpy as np\n",
    "from math import pi\n",
    "import matplotlib.pylab as plt\n",
    "from itertools import product\n",
    "from qiskit.quantum_info import Operator\n",
    "from tqdm.auto import tqdm\n",
    "import warnings\n",
    "warnings.filterwarnings(\"ignore\")\n",
    "import sys\n",
    "sys.path.insert(1, '../src/')\n",
    "from utils.functions import *\n",
    "from models.models_bo import *\n",
    "\n",
    "from scipy.linalg import eigh\n",
    "from qiskit_algorithms.optimizers import SPSA, COBYLA, L_BFGS_B\n",
    "from qiskit import QuantumCircuit\n",
    "from qiskit.quantum_info import SparsePauliOp, Statevector, Operator\n",
    "from qiskit_nature.units import DistanceUnit\n",
    "from qiskit_nature.second_q.drivers import PySCFDriver\n",
    "from qiskit_nature.second_q.mappers import JordanWignerMapper\n",
    "from qiskit_nature.second_q.operators import PolynomialTensor\n",
    "from qiskit.primitives import Estimator\n",
    "from qiskit_nature.second_q.circuit.library import UCCSD, HartreeFock\n",
    "from qiskit.circuit.library import TwoLocal\n"
   ]
  },
  {
   "cell_type": "code",
   "execution_count": 2,
   "metadata": {},
   "outputs": [],
   "source": [
    "# Define the H2O molecule geometry\n",
    "driver = PySCFDriver(\n",
    "    atom=\"O 0 0 0; H 0.757 0.586 0; H -0.757 0.586 0\",\n",
    "    basis=\"sto3g\",\n",
    "    charge=0,\n",
    "    spin=0,\n",
    "    unit=DistanceUnit.ANGSTROM\n",
    ")\n",
    "# Run the driver to get the electronic structure problem\n",
    "problem = driver.run()\n",
    "\n",
    "#Obtaining the Hamiltonian\n",
    "hamiltonian = problem.hamiltonian\n",
    "second_q_op = hamiltonian.second_q_op()\n",
    "\n",
    "#Converting to qubit Hamiltonian\n",
    "mapper = JordanWignerMapper()\n",
    "H = mapper.map(second_q_op)\n",
    "\n",
    "\n",
    "nuclear_repulsion_energy = hamiltonian.nuclear_repulsion_energy\n",
    "hamiltonian.electronic_integrals.alpha += PolynomialTensor({\"\": nuclear_repulsion_energy})\n",
    "mapper = JordanWignerMapper()\n",
    "second_q_op = hamiltonian.second_q_op()\n",
    "H = mapper.map(second_q_op)\n"
   ]
  },
  {
   "cell_type": "code",
   "execution_count": 3,
   "metadata": {},
   "outputs": [
    {
     "name": "stdout",
     "output_type": "stream",
     "text": [
      "Initial state: Statevector([0.+0.j, 0.+0.j, 0.+0.j, ..., 0.+0.j, 0.+0.j, 0.+0.j],\n",
      "            dims=(2, 2, 2, 2, 2, 2, 2, 2, 2, 2, 2, 2, 2, 2))\n",
      "Initial Circuit Ansatz\n"
     ]
    }
   ],
   "source": [
    "# Set up the initial state and, the UCCSD or TwoLocal ansatz for H2\n",
    "num_spatial_orbitals = problem.num_spatial_orbitals\n",
    "num_particles = problem.num_particles\n",
    "mapper = JordanWignerMapper()\n",
    "\n",
    "initial_state = HartreeFock(\n",
    "    num_spatial_orbitals,\n",
    "    num_particles,\n",
    "    mapper\n",
    ")\n",
    "\n",
    "ansatz = UCCSD(\n",
    "    num_spatial_orbitals=num_spatial_orbitals,\n",
    "    num_particles=num_particles,\n",
    "    qubit_mapper=mapper,\n",
    "    initial_state=initial_state\n",
    "    )\n",
    "\n",
    "\n",
    "ansatz = TwoLocal(H.num_qubits, rotation_blocks=\"ry\", entanglement_blocks=\"cz\")\n",
    "num_qubits = ansatz.num_qubits\n",
    "\n",
    "print('Initial state:',Statevector.from_instruction(initial_state))\n",
    "initial_circuit = ansatz.decompose()\n",
    "print('Initial Circuit Ansatz')\n",
    "#initial_circuit.draw('mpl')"
   ]
  },
  {
   "cell_type": "code",
   "execution_count": 4,
   "metadata": {},
   "outputs": [],
   "source": [
    "def create_circuit_ansatz(thetas, initial_state):\n",
    "\n",
    "    # Create circuit\n",
    "    circ = QuantumCircuit(ansatz.num_qubits)\n",
    "    # Apply the initial state (HartreeFock)\n",
    "    circ.compose(initial_state, inplace=True)\n",
    "    # Apply the UCCSD ansatz with the generated parameters\n",
    "    circ = ansatz.assign_parameters(thetas.squeeze()).compose(circ)\n",
    "    return circ\n",
    "\n",
    "\n",
    "n_thetas = ansatz.num_parameters\n",
    "circ_visualization = create_circuit_ansatz(np.zeros(n_thetas)[np.newaxis,:], initial_state)\n",
    "#circ_visualization.decompose().draw('mpl')"
   ]
  },
  {
   "cell_type": "code",
   "execution_count": 5,
   "metadata": {},
   "outputs": [
    {
     "name": "stdout",
     "output_type": "stream",
     "text": [
      "Ground state energy: -74.96\n"
     ]
    }
   ],
   "source": [
    "#Estimate the ground state energy\n",
    "#Due to the computational cost, we will not calculate the ground state energy and the value of −74.96, a value found in the literature, will be used.\n",
    "\n",
    "ground_state_energy = -74.96\n",
    "if False:\n",
    "    eigenvalues, eigenvectors = eigh(H.to_matrix())\n",
    "    ground_state_energy = np.min(eigenvalues)\n",
    "    ground_state = eigenvectors[:, np.argmin(eigenvalues)]\n",
    "print(f\"Ground state energy: {ground_state_energy}\")"
   ]
  },
  {
   "cell_type": "code",
   "execution_count": 6,
   "metadata": {},
   "outputs": [],
   "source": [
    "circuit = create_circuit_ansatz\n",
    "\n",
    "#If you want to estimate the performance with a set of test of the surrogate models, it is recommended to use the lines that contain the word \"test\"\n",
    "#they are commented to reduce the computational cost.\n",
    "#n_test_samples = 100\n",
    "#X_test, y_test_expectation_values, y_test_sum_expectation_values = get_real_samples_vqe(circuit, n_test_samples, n_thetas, initial_state, H, type_sampling = 'Random_Uniform')\n"
   ]
  },
  {
   "cell_type": "markdown",
   "metadata": {},
   "source": [
    "Main parameters of the BO"
   ]
  },
  {
   "cell_type": "code",
   "execution_count": 7,
   "metadata": {},
   "outputs": [],
   "source": [
    "#Generate initial samples\n",
    "n_initial_samples = 50\n",
    "#Number of time to run the BO\n",
    "n_run = 5\n",
    "\n",
    "#Number of iterations of one BO\n",
    "n_BO = 151\n",
    "\n",
    "#Parameter of the function of adquisicion\n",
    "beta = 1"
   ]
  },
  {
   "cell_type": "code",
   "execution_count": 8,
   "metadata": {},
   "outputs": [
    {
     "name": "stdout",
     "output_type": "stream",
     "text": [
      "run  1\n"
     ]
    },
    {
     "data": {
      "application/vnd.jupyter.widget-view+json": {
       "model_id": "e9bef1b3bdc4456d9fc32659e05bb331",
       "version_major": 2,
       "version_minor": 0
      },
      "text/plain": [
       "  0%|          | 0/150 [00:00<?, ?it/s]"
      ]
     },
     "metadata": {},
     "output_type": "display_data"
    },
    {
     "name": "stdout",
     "output_type": "stream",
     "text": [
      "run  2\n"
     ]
    },
    {
     "data": {
      "application/vnd.jupyter.widget-view+json": {
       "model_id": "5fb895a063724f808fed17e066ce7af2",
       "version_major": 2,
       "version_minor": 0
      },
      "text/plain": [
       "  0%|          | 0/150 [00:00<?, ?it/s]"
      ]
     },
     "metadata": {},
     "output_type": "display_data"
    },
    {
     "name": "stdout",
     "output_type": "stream",
     "text": [
      "run  3\n"
     ]
    },
    {
     "data": {
      "application/vnd.jupyter.widget-view+json": {
       "model_id": "1f244d96e8d14337a3caf5616f245fdb",
       "version_major": 2,
       "version_minor": 0
      },
      "text/plain": [
       "  0%|          | 0/150 [00:00<?, ?it/s]"
      ]
     },
     "metadata": {},
     "output_type": "display_data"
    },
    {
     "name": "stdout",
     "output_type": "stream",
     "text": [
      "run  4\n"
     ]
    },
    {
     "data": {
      "application/vnd.jupyter.widget-view+json": {
       "model_id": "56feea5c401040bbbf54a8a28281dcde",
       "version_major": 2,
       "version_minor": 0
      },
      "text/plain": [
       "  0%|          | 0/150 [00:00<?, ?it/s]"
      ]
     },
     "metadata": {},
     "output_type": "display_data"
    },
    {
     "name": "stdout",
     "output_type": "stream",
     "text": [
      "run  5\n"
     ]
    },
    {
     "data": {
      "application/vnd.jupyter.widget-view+json": {
       "model_id": "d346d526a430497c935dcedbf1e0056f",
       "version_major": 2,
       "version_minor": 0
      },
      "text/plain": [
       "  0%|          | 0/150 [00:00<?, ?it/s]"
      ]
     },
     "metadata": {},
     "output_type": "display_data"
    }
   ],
   "source": [
    "#BO loop\n",
    "#Percentage of data to keep to train the degenerated GP. 0.1->10%  of the new \n",
    "history_best_eigenvalue_runs = np.zeros((n_run,n_BO))\n",
    "best_eigenvalue_runs = np.zeros(n_run)\n",
    "best_thetas_runs = np.zeros((n_run, n_thetas))\n",
    "n_surrogates_models = 1\n",
    "n_samples_acquisition_fx = 1000\n",
    "\n",
    "#Parameters of the GPs\n",
    "params = {'training_iter': 10, 'learning_rate':0.1, 'initial_noise':1e-8, 'initial_lengthscale':0.9, 'initial_output_scale': 1, 'scaler_target': None, #'StandardScaler',\n",
    "                'verbose':False }\n",
    "bounds = torch.stack([torch.zeros(n_thetas), 2*pi*torch.ones(n_thetas)])  #Bounds angles  \n",
    "\n",
    "\n",
    "for iter_run in range(n_run):\n",
    "    print('run ', iter_run+1)\n",
    "    X_initial_thetas, y_initial_expectation_values, y_initial_eigenvalues = get_real_samples_vqe(circuit, n_initial_samples, n_thetas, initial_state, H, type_sampling = 'Random_Uniform')\n",
    "\n",
    "\n",
    "    history_best_eigenvalue = []\n",
    "    keys = (['mean_MSE_eigenvalue_train', 'mean_MSE_eigenvalue_test'] +\n",
    "            ['mean_loss_train_sm_'+str(n_sm) for n_sm in range(n_surrogates_models)]+\n",
    "            ['mean_loss_test_sm_'+str(n_sm) for n_sm in range(n_surrogates_models)])\n",
    "    mean_metrics = {key: np.zeros(n_BO) for key in keys}\n",
    "\n",
    "    history_thetas = np.zeros((n_BO,n_thetas))\n",
    "\n",
    "    #Store real data\n",
    "    X_train, y_train_expectations_values, y_train_eigenvalues = X_initial_thetas, y_initial_expectation_values, y_initial_eigenvalues\n",
    "\n",
    "    #train model and save variables of training\n",
    "    surrogate_models, metrics_models = {'gp_model':[], 'likelihood':[], 'scaler_target':[]}, {}\n",
    "    for n_sm in range(n_surrogates_models):\n",
    "        #gp_model, ll, metrics, scaler_y = train_surrogate_models_gp((X_train, y_train_expectations_values[:,n_sm], [], [], params))\n",
    "        gp_model, ll, metrics, scaler_y = train_surrogate_models_gp((X_train, y_train_eigenvalues, [], [], params))\n",
    "        surrogate_models['gp_model'].append(gp_model)\n",
    "        surrogate_models['likelihood'].append(ll)\n",
    "        surrogate_models['scaler_target'].append(scaler_y)\n",
    "        metrics_models['model_train_'+str(n_sm)] = metrics['loss_train'][-1]\n",
    "        #metrics_models['model_test_'+str(n_sm)] = metrics['loss_test'][-1]\n",
    "\n",
    "\n",
    "    #Best eigenvalue\n",
    "    idx_best_eigenvalue = np.argmax(y_initial_eigenvalues)\n",
    "    best_eigenvalue = y_train_eigenvalues[idx_best_eigenvalue]\n",
    "    best_thetas = X_train[idx_best_eigenvalue]\n",
    "    history_best_eigenvalue.append(-best_eigenvalue)\n",
    "\n",
    "\n",
    "    mean_estimated_eigenvalues_train,std_estimated_eigenvalues_train = get_eigenvalues_from_expectations_values(surrogate_models, X_train, np.ones(n_surrogates_models), num_qubits)  \n",
    "    #mean_estimated_eigenvalues_test,std_estimated_eigenvalues_test = get_eigenvalues_from_expectations_values(surrogate_models, X_test, np.ones(n_surrogates_models), num_qubits)  \n",
    "    iter_BO = 0\n",
    "    mean_metrics['mean_MSE_eigenvalue_train'][iter_BO] = np.mean((mean_estimated_eigenvalues_train - y_train_eigenvalues)**2)\n",
    "    #mean_metrics['mean_MSE_fidelity_test'][iter_BO] = np.mean((mean_estimated_fidelities_test - y_test_fidelities)**2)\n",
    "    for n_sm in range(n_surrogates_models):\n",
    "        mean_metrics['mean_loss_train_sm_'+str(n_sm)][iter_BO] = metrics_models['model_train_'+str(n_sm)]\n",
    "        #mean_metrics['mean_loss_test_sm_'+str(n_sm)][iter_BO] = metrics_models['model_test_'+str(n_sm)]\n",
    "\n",
    "\n",
    "\n",
    "    pbar = tqdm(range(1, n_BO))\n",
    "    for iter_BO in pbar:\n",
    "        # Generate new angles samples\n",
    "        #wrapped_gp_model = WrappedGPyTorchModelMultiGPHamiltonian(surrogate_models, np.ones(n_surrogates_models), num_qubits)\n",
    "        wrapped_gp_model = WrappedGPyTorchModelMonoGP(gp_model)\n",
    "\n",
    "        fx_acq = UpperConfidenceBound(wrapped_gp_model, beta = beta)\n",
    "        fx_acq.model.eval()\n",
    "\n",
    "        candidate, acq_value = optimize_acqf(\n",
    "            acq_function=fx_acq,\n",
    "            bounds=bounds,\n",
    "            q=1,\n",
    "            num_restarts=5,\n",
    "            raw_samples=n_samples_acquisition_fx,\n",
    "        )\n",
    "        \n",
    "        new_sample = np.array(candidate).squeeze(0)\n",
    "\n",
    "        new_exp_values, new_eigenvalue = get_expectation_values_hamiltonian(circuit, new_sample[np.newaxis,:], initial_state, H)\n",
    "\n",
    "        #Add new data to known X_theta, y_real_expectation_values and y_real_fidelity\n",
    "        X_train = np.vstack((X_train,new_sample[np.newaxis,:]))\n",
    "        y_train_eigenvalues = np.hstack((y_train_eigenvalues, new_eigenvalue))\n",
    "        y_train_expectations_values = np.vstack((y_train_expectations_values, new_exp_values))\n",
    "\n",
    "        #Check if the new eigenvalue is best than the current best eigenvalue\n",
    "        if new_eigenvalue>best_eigenvalue:\n",
    "            best_eigenvalue = new_eigenvalue\n",
    "            best_thetas = new_sample\n",
    "            \n",
    "        history_best_eigenvalue.append(-best_eigenvalue)\n",
    "        history_thetas[iter_BO] = -best_thetas\n",
    "\n",
    "        #Update the models\n",
    "        surrogate_models, metrics_models = {'gp_model':[], 'likelihood':[], 'scaler_target':[]}, {}\n",
    "\n",
    "        for n_sm in range(n_surrogates_models):\n",
    "            #gp_model, ll, metrics, scaler_y = train_surrogate_models_gp((X_train, y_train_expectations_values[:,n_sm], [], [], params))\n",
    "            gp_model, ll, metrics, scaler_y = train_surrogate_models_gp((X_train, y_train_eigenvalues, [], [], params))\n",
    "\n",
    "            surrogate_models['gp_model'].append(gp_model)\n",
    "            surrogate_models['likelihood'].append(ll)\n",
    "            surrogate_models['scaler_target'].append(scaler_y)\n",
    "            metrics_models['model_train_'+str(n_sm)] = metrics['loss_train'][-1]\n",
    "            #metrics_models['model_test_'+str(n_sm)] = metrics['loss_test'][-1]\n",
    "        \n",
    "        \n",
    "        mean_estimated_eigenvalues_train, std_estimated_eigenvalues_train = get_eigenvalues_from_expectations_values(surrogate_models, X_train, np.ones(n_surrogates_models), num_qubits)  \n",
    "        #mean_estimated_eigenvalues_test, std_estimated_eigenvalues_test = get_eigenvalues_from_expectations_values(surrogate_models, X_test, np.ones(n_surrogates_models), num_qubits)  \n",
    "        mean_metrics['mean_MSE_eigenvalue_train'][iter_BO] = np.mean((mean_estimated_eigenvalues_train - y_train_eigenvalues)**2)\n",
    "        #mean_metrics['mean_MSE_fidelity_test'][iter_BO] = np.mean((mean_estimated_fidelities_test - y_test_fidelities)**2)\n",
    "        for n_sm in range(n_surrogates_models):\n",
    "            mean_metrics['mean_loss_train_sm_'+str(n_sm)][iter_BO] = metrics_models['model_train_'+str(n_sm)]\n",
    "            #mean_metrics['mean_loss_test_sm_'+str(n_sm)][iter_BO] = metrics_models['model_test_'+str(n_sm)]\n",
    "\n",
    "\n",
    "        pbar.set_description('Current best eigenvalue {}'.format(np.round(-best_eigenvalue, 9)))\n",
    "\n",
    "\n",
    "    history_best_eigenvalue_runs[iter_run] = history_best_eigenvalue\n",
    "    best_eigenvalue_runs[iter_run] = -best_eigenvalue\n",
    "    best_thetas_runs[iter_run] = -best_thetas\n",
    "\n",
    "\n"
   ]
  },
  {
   "cell_type": "code",
   "execution_count": 9,
   "metadata": {},
   "outputs": [
    {
     "data": {
      "image/png": "[encoded data removed]",
      "text/plain": [
       "<Figure size 1000x700 with 2 Axes>"
      ]
     },
     "metadata": {},
     "output_type": "display_data"
    }
   ],
   "source": [
    "fig, ax = plt.subplots(2,1,figsize=(10,7), facecolor='white', constrained_layout = True, sharex=False, sharey=False)\n",
    "\n",
    "plt.suptitle('Eigenvalues during Bayesian Optimisation')\n",
    "\n",
    "ax[0].set_title(r'Hamiltonian: $H_{2}O$')\n",
    "ax[0].plot(np.arange(n_BO), np.mean(history_best_eigenvalue_runs,0), '-o', linewidth=1.3, color='k', markersize=2.5, label = 'BO Eigenvalue')\n",
    "ax[0].axhline(ground_state_energy, linestyle='--',color='r', label='Ground state energy $E_{0}$')\n",
    "\n",
    "ax[1].plot(np.arange(n_BO), np.mean(history_best_eigenvalue_runs,0) - ground_state_energy, '-o', linewidth=1.3, color='k', markersize=2.5, label = 'Eigenvalue - $E_{0}$')\n",
    "\n",
    "ax[1].set_yscale('log')\n",
    "ax[0].set_ylabel('Eigenvalue')\n",
    "ax[1].set_ylabel('Eigenvalue - $E_{0}$')\n",
    "ax[1].set_xlabel('Number of iterations')\n",
    "\n",
    "ax[0].legend(loc='upper right')\n",
    "ax[1].legend(loc='upper right')\n",
    "\n",
    "plt.legend()\n",
    "plt.show()"
   ]
  },
  {
   "cell_type": "code",
   "execution_count": 10,
   "metadata": {},
   "outputs": [],
   "source": [
    "#Save data generated\n",
    "data_plot = {   'history_best_eigenvalue_runs':history_best_eigenvalue_runs,\n",
    "                'best_thetas_runs': best_thetas_runs,\n",
    "                'best_eigenvalue_runs':best_eigenvalue_runs, \n",
    "                'n_samples_acquisition_fx':n_samples_acquisition_fx,\n",
    "                'n_BO': n_BO,\n",
    "                'learning_rate': params['learning_rate'],\n",
    "                'initial_noise': params['initial_noise'],\n",
    "                'scaler_target': params['scaler_target'],\n",
    "                'n_initial_samples': n_initial_samples,\n",
    "                'mean_MSE_eigenvalue_train':mean_metrics['mean_MSE_eigenvalue_train'],\n",
    "                'mean_MSE_eigenvalue_test':mean_metrics['mean_MSE_eigenvalue_test'],\n",
    "                'real_ground_state_energy':ground_state_energy,\n",
    "                'type_acq_function': str(fx_acq),\n",
    "                #'H_matrix':H.to_matrix(),\n",
    "                #'H_coeffs':H.coeffs,\n",
    "                'size_dataset':y_train_eigenvalues.shape[0]\n",
    " \n",
    "             }\n",
    "\n",
    "if True:\n",
    "    with open(\"../results/vqe/results_hamiltonian_H2O_\"+ str(num_qubits)+\"qubits_bo_statevector.json\", \"w\") as outfile: \n",
    "        json.dump(data_plot, outfile, cls=CustomEncoder)\n",
    "    "
   ]
  },
  {
   "cell_type": "code",
   "execution_count": 11,
   "metadata": {},
   "outputs": [],
   "source": [
    "metrics_reg= {\n",
    "    'mean_eigenvalue_runs': -np.mean(np.abs(best_eigenvalue_runs)),\n",
    "    'std_eigenvalue_runs': np.std(best_eigenvalue_runs),\n",
    "        }\n",
    "\n",
    "params['size_final_dataset'] = y_initial_eigenvalues.shape[0]\n",
    "params['n_samples_acquisition_fx'] = n_samples_acquisition_fx\n",
    "params['type_acq_function'] = str(fx_acq)\n",
    "params['n_initial_samples'] = n_initial_samples\n",
    "params['beta'] = beta"
   ]
  },
  {
   "cell_type": "markdown",
   "metadata": {},
   "source": [
    "Optionally: Track metrics and parameters in MLflow"
   ]
  },
  {
   "cell_type": "code",
   "execution_count": 12,
   "metadata": {},
   "outputs": [
    {
     "name": "stderr",
     "output_type": "stream",
     "text": [
      "2024/09/29 21:49:23 INFO mlflow.tracking._tracking_service.client: 🏃 View run VQE_H2O_BO_Statevector at: http://127.0.0.1:8080/#/experiments/530387561206499386/runs/c1238c671f3f49a88b58f51c86a566b6.\n",
      "2024/09/29 21:49:23 INFO mlflow.tracking._tracking_service.client: 🧪 View experiment at: http://127.0.0.1:8080/#/experiments/530387561206499386.\n"
     ]
    }
   ],
   "source": [
    "import mlflow\n",
    "mlflow.set_tracking_uri(uri=\"http://127.0.0.1:8080\")\n",
    "mlflow.set_experiment(\"VQE_H2O\")\n",
    "\n",
    "with mlflow.start_run(run_name='VQE_H2O_BO_Statevector'):\n",
    "\n",
    "    mlflow.log_params(params)\n",
    "    mlflow.log_metrics(metrics_reg)"
   ]
  }
 ],
 "metadata": {
  "kernelspec": {
   "display_name": "QOC_venv",
   "language": "python",
   "name": "python3"
  },
  "language_info": {
   "codemirror_mode": {
    "name": "ipython",
    "version": 3
   },
   "file_extension": ".py",
   "mimetype": "text/x-python",
   "name": "python",
   "nbconvert_exporter": "python",
   "pygments_lexer": "ipython3",
   "version": "3.12.0"
  }
 },
 "nbformat": 4,
 "nbformat_minor": 2
}
